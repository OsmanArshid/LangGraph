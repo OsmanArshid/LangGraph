{
 "cells": [
  {
   "cell_type": "markdown",
   "id": "0c9e547f",
   "metadata": {},
   "source": [
    "[![Open in Colab](https://colab.research.google.com/assets/colab-badge.svg)](https://colab.research.google.com/github/langchain-ai/langchain-academy/blob/main/module-3/streaming-interruption.ipynb) [![Open in LangChain Academy](https://cdn.prod.website-files.com/65b8cd72835ceeacd4449a53/66e9eba12c7b7688aa3dbb5e_LCA-badge-green.svg)](https://academy.langchain.com/courses/take/intro-to-langgraph/lessons/58239464-lesson-1-streaming)"
   ]
  },
  {
   "cell_type": "markdown",
   "id": "319adfec-2d0a-49f2-87f9-275c4a32add2",
   "metadata": {},
   "source": [
    "# Streaming\n",
    "\n",
    "## Review\n",
    "\n",
    "In module 2, we covered a few ways to customize graph state and memory.\n",
    " \n",
    "We built up to a Chatbot with external memory that can sustain long-running conversations. \n",
    "\n",
    "## Goals\n",
    "\n",
    "This module will dive into `human-in-the-loop`, which builds on memory and allows users to interact directly with graphs in various ways. \n",
    "\n",
    "To set the stage for `human-in-the-loop`, we'll first dive into streaming, which provides several ways to visualize graph output (e.g., node state or chat model tokens) over the course of execution."
   ]
  },
  {
   "cell_type": "code",
   "execution_count": 1,
   "id": "db024d1f-feb3-45a0-a55c-e7712a1feefa",
   "metadata": {},
   "outputs": [
    {
     "name": "stderr",
     "output_type": "stream",
     "text": [
      "\n",
      "[notice] A new release of pip is available: 24.2 -> 25.2\n",
      "[notice] To update, run: python.exe -m pip install --upgrade pip\n"
     ]
    }
   ],
   "source": [
    "%%capture --no-stderr\n",
    "%pip install --quiet -U langgraph langchain_google_genai langgraph_sdk python-dotenv"
   ]
  },
  {
   "cell_type": "markdown",
   "id": "70d7e41b-c6ba-4e47-b645-6c110bede549",
   "metadata": {},
   "source": [
    "## Streaming\n",
    "\n",
    "LangGraph is built with [first class support for streaming](https://langchain-ai.github.io/langgraph/concepts/low_level/#streaming).\n",
    "\n",
    "Let's set up our Chatbot from Module 2, and show various way to stream outputs from the graph during execution. "
   ]
  },
  {
   "cell_type": "code",
   "execution_count": 2,
   "id": "5b430d92-f595-4322-a56e-06de7485daa8",
   "metadata": {},
   "outputs": [
    {
     "name": "stdout",
     "output_type": "stream",
     "text": [
      "yea\n"
     ]
    }
   ],
   "source": [
    "import os\n",
    "from dotenv import load_dotenv\n",
    "load_dotenv()\n",
    "\n",
    "GOOGLE_API_KEY = os.getenv(\"GOOGLE_API_KEY\")\n",
    "\n",
    "if GOOGLE_API_KEY:\n",
    "    # print(GOOGLE_API_KEY)\n",
    "    print(\"yea\")\n",
    "else:\n",
    "    print(\"no\")"
   ]
  },
  {
   "cell_type": "markdown",
   "id": "4d0682fc",
   "metadata": {},
   "source": [
    "Note that we use `RunnableConfig` with `call_model` to enable token-wise streaming. This is [only needed with python < 3.11](https://langchain-ai.github.io/langgraph/how-tos/streaming-tokens/). We include in case you are running this notebook in CoLab, which will use python 3.x. "
   ]
  },
  {
   "cell_type": "code",
   "execution_count": 27,
   "id": "2d7321e0-0d99-4efe-a67b-74c12271859b",
   "metadata": {},
   "outputs": [
    {
     "data": {
      "image/png": "[encoded data removed]",
      "text/plain": [
       "<IPython.core.display.Image object>"
      ]
     },
     "metadata": {},
     "output_type": "display_data"
    }
   ],
   "source": [
    "from IPython.display import Image, display\n",
    "\n",
    "from langchain_google_genai import ChatGoogleGenerativeAI\n",
    "from langchain_core.messages import SystemMessage, RemoveMessage, HumanMessage\n",
    "\n",
    "from langchain_core.runnables import RunnableConfig\n",
    "\n",
    "from langgraph.checkpoint.memory import MemorySaver\n",
    "from langgraph.graph import StateGraph, START, END\n",
    "from langgraph.graph import MessagesState\n",
    "\n",
    "# LLM\n",
    "model = ChatGoogleGenerativeAI(model=\"gemini-2.0-flash\", temperature=0) \n",
    "\n",
    "\n",
    "# State \n",
    "class State(MessagesState):\n",
    "    summary: str\n",
    "\n",
    "\n",
    "# Define the logic to call the model\n",
    "def call_model(state: State, config: RunnableConfig):\n",
    "    \n",
    "    # Get summary if it exists\n",
    "    summary = state.get(\"summary\", \"\")\n",
    "\n",
    "    # If there is summary, then we add it\n",
    "    if summary:        \n",
    "        # Add summary to system message\n",
    "        system_message = f\"Summary of conversation earlier: {summary}\"\n",
    "\n",
    "        # Append summary to any newer messages\n",
    "        messages = [SystemMessage(content=system_message)] + state[\"messages\"]\n",
    "    \n",
    "    else:\n",
    "        messages = state[\"messages\"]\n",
    "    \n",
    "    response = model.invoke(messages, config)\n",
    "    return {\"messages\": response}\n",
    "\n",
    "\n",
    "\n",
    "def summarize_conversation(state: State):\n",
    "    \n",
    "    # First, we get any existing summary\n",
    "    summary = state.get(\"summary\", \"\")\n",
    "\n",
    "    # Create our summarization prompt \n",
    "    if summary:\n",
    "        # A summary already exists\n",
    "        summary_message = (\n",
    "            f\"This is summary of the conversation to date: {summary}\\n\\n\"\n",
    "            \"Extend the summary by taking into account the new messages above:\"\n",
    "        )\n",
    "        \n",
    "    else:\n",
    "        summary_message = \"Create a summary of the conversation above:\"\n",
    "\n",
    "    # Add prompt to our history\n",
    "    messages = state[\"messages\"] + [HumanMessage(content=summary_message)]\n",
    "    response = model.invoke(messages)\n",
    "    \n",
    "    # Delete all but the 2 most recent messages\n",
    "    delete_messages = [RemoveMessage(id = m.id) for m in state[\"messages\"][:-2]]\n",
    "    \n",
    "    return {\"summary\": response.content, \"messages\": delete_messages}\n",
    "\n",
    "\n",
    "\n",
    "# Determine whether to end or summarize the conversation\n",
    "def should_continue(state: State):\n",
    "    \"\"\"Return the next node to execute.\"\"\"\n",
    "    \n",
    "    messages = state[\"messages\"]\n",
    "    \n",
    "    # If there are more than six messages, then we summarize the conversation\n",
    "    if len(messages) > 6:\n",
    "        return \"summarize_conversation\"\n",
    "    \n",
    "    # Otherwise we can just end\n",
    "    return \"END\"\n",
    "\n",
    "\n",
    "# Define a new graph\n",
    "workflow = StateGraph(State)\n",
    "\n",
    "workflow.add_node(\"convo_call_model\", call_model)\n",
    "workflow.add_node(\"summarize_conversation\", summarize_conversation)\n",
    "\n",
    "# Set the entrypoint as conversation\n",
    "workflow.add_edge(START, \"convo_call_model\")\n",
    "workflow.add_conditional_edges(\n",
    "    \"convo_call_model\", \n",
    "    should_continue,\n",
    "    {\n",
    "        \"summarize_conversation\": \"summarize_conversation\",\n",
    "        \"END\" : END\n",
    "    }\n",
    ")\n",
    "workflow.add_edge(\"summarize_conversation\", END)\n",
    "\n",
    "# Compile\n",
    "memory = MemorySaver()\n",
    "graph = workflow.compile(checkpointer=memory)\n",
    "\n",
    "\n",
    "display(Image(graph.get_graph().draw_mermaid_png()))"
   ]
  },
  {
   "attachments": {},
   "cell_type": "markdown",
   "id": "f847a787-b301-488c-9b58-cba9f389f55d",
   "metadata": {},
   "source": [
    "### Streaming full state\n",
    "\n",
    "Now, let's talk about ways to [stream our graph state](https://langchain-ai.github.io/langgraph/concepts/low_level/#streaming).\n",
    "\n",
    "`.stream` and `.astream` are sync and async methods for streaming back results. \n",
    " \n",
    "LangGraph supports a few [different streaming modes](https://langchain-ai.github.io/langgraph/how-tos/stream-values/) for [graph state](https://langchain-ai.github.io/langgraph/how-tos/stream-values/):\n",
    " \n",
    "* `values`: This streams the full state of the graph after each node is called.\n",
    "* `updates`: This streams updates to the state of the graph after each node is called.\n",
    "\n",
    "![values_vs_updates.png](https://cdn.prod.website-files.com/65b8cd72835ceeacd4449a53/66dbaf892d24625a201744e5_streaming1.png)\n",
    "\n",
    "Let's look at `stream_mode=\"updates\"`.\n",
    "\n",
    "Because we stream with `updates`, we only see updates to the state after node in the graph is run.\n",
    "\n",
    "Each `chunk` is a dict with `node_name` as the key and the updated state as the value."
   ]
  },
  {
   "cell_type": "code",
   "execution_count": 28,
   "id": "9a6f8ae9-f244-40c5-a2da-618b72631b22",
   "metadata": {},
   "outputs": [
    {
     "name": "stdout",
     "output_type": "stream",
     "text": [
      "{'convo_call_model': {'messages': AIMessage(content=\"Hey Usman! It's nice to meet you. How can I help you today?\", additional_kwargs={}, response_metadata={'prompt_feedback': {'block_reason': 0, 'safety_ratings': []}, 'finish_reason': 'STOP', 'model_name': 'gemini-2.0-flash', 'safety_ratings': []}, id='run--da566891-f1df-4d43-af71-69aed65c5494-0', usage_metadata={'input_tokens': 6, 'output_tokens': 19, 'total_tokens': 25, 'input_token_details': {'cache_read': 0}})}}\n"
     ]
    }
   ],
   "source": [
    "# Create a thread\n",
    "config = {\"configurable\" : {\"thread_id\" : \"1\"}}\n",
    "\n",
    "# Start conversation\n",
    "for chunk in graph.stream({\"messages\" : [HumanMessage(content = \"Hey i'm usman\")]}, config, stream_mode = \"updates\"):\n",
    "    print(chunk)"
   ]
  },
  {
   "cell_type": "code",
   "execution_count": null,
   "id": "9fceadd2-e0cc-431c-b928-7bc5bedbe8bb",
   "metadata": {},
   "outputs": [],
   "source": []
  },
  {
   "cell_type": "markdown",
   "id": "0c4882e9-07dd-4d70-866b-dfc530418cad",
   "metadata": {},
   "source": [
    "Let's now just print the state update."
   ]
  },
  {
   "cell_type": "code",
   "execution_count": 29,
   "id": "c859c777-cb12-4682-9108-6b367e597b81",
   "metadata": {},
   "outputs": [
    {
     "name": "stdout",
     "output_type": "stream",
     "text": [
      "==================================\u001b[1m Ai Message \u001b[0m==================================\n",
      "\n",
      "Hi Usman! It's good to connect with you. What can I do for you today?\n"
     ]
    }
   ],
   "source": [
    "# Start conversation\n",
    "for chunk in graph.stream({\"messages\": [HumanMessage(content=\"hi! I'm Usman\")]}, config, stream_mode=\"updates\"):\n",
    "    chunk[\"convo_call_model\"][\"messages\"].pretty_print()"
   ]
  },
  {
   "cell_type": "code",
   "execution_count": null,
   "id": "2e4b5718-9b68-4f29-b558-6281619fcf83",
   "metadata": {},
   "outputs": [],
   "source": []
  },
  {
   "cell_type": "markdown",
   "id": "583bf219-6358-4d06-ae99-c40f43569fda",
   "metadata": {},
   "source": [
    "Now, we can see `stream_mode=\"values\"`.\n",
    "\n",
    "This is the `full state` of the graph after the `conversation` node is called."
   ]
  },
  {
   "cell_type": "code",
   "execution_count": 30,
   "id": "6ee763f8-6d1f-491e-8050-fb1439e116df",
   "metadata": {},
   "outputs": [
    {
     "name": "stdout",
     "output_type": "stream",
     "text": [
      "================================\u001b[1m Human Message \u001b[0m=================================\n",
      "\n",
      "hi! I'm Ozman\n",
      "---------------------------------------------------------------------------\n",
      "================================\u001b[1m Human Message \u001b[0m=================================\n",
      "\n",
      "hi! I'm Ozman\n",
      "==================================\u001b[1m Ai Message \u001b[0m==================================\n",
      "\n",
      "Hi Ozman! It's nice to meet you. How can I help you today?\n",
      "---------------------------------------------------------------------------\n"
     ]
    }
   ],
   "source": [
    "# Start conversation, again\n",
    "config = {\"configurable\": {\"thread_id\": \"2\"}}\n",
    "\n",
    "# Start conversation\n",
    "input_message = [HumanMessage(content=\"hi! I'm Ozman\")]\n",
    "\n",
    "for event in graph.stream({\"messages\": input_message}, config, stream_mode=\"values\"):\n",
    "    for m in event['messages']:\n",
    "        m.pretty_print()\n",
    "    print(\"---\"*25)"
   ]
  },
  {
   "cell_type": "markdown",
   "id": "563c198a-d1a4-4700-b7a7-ff5b8e0b25d7",
   "metadata": {},
   "source": [
    "### Streaming tokens\n",
    "\n",
    "We often want to stream more than graph state.\n",
    "\n",
    "In particular, with chat model calls it is common to stream the tokens as they are generated.\n",
    "\n",
    "We can do this [using the `.astream_events` method](https://langchain-ai.github.io/langgraph/how-tos/streaming-from-final-node/#stream-outputs-from-the-final-node), which streams back events as they happen inside nodes!\n",
    "\n",
    "Each event is a dict with a few keys:\n",
    " \n",
    "* `event`: This is the type of event that is being emitted. \n",
    "* `name`: This is the name of event.\n",
    "* `data`: This is the data associated with the event.\n",
    "* `metadata`: Contains`langgraph_node`, the node emitting the event.\n",
    "\n",
    "Let's have a look."
   ]
  },
  {
   "cell_type": "code",
   "execution_count": 31,
   "id": "6ae8c7a6-c6e7-4cef-ac9f-190d2f4dd763",
   "metadata": {
    "scrolled": true
   },
   "outputs": [
    {
     "name": "stdout",
     "output_type": "stream",
     "text": [
      "Node: . Type: on_chain_start. Name: LangGraph\n",
      "Node: convo_call_model. Type: on_chain_start. Name: convo_call_model\n",
      "Node: convo_call_model. Type: on_chat_model_start. Name: ChatGoogleGenerativeAI\n",
      "Node: convo_call_model. Type: on_chat_model_stream. Name: ChatGoogleGenerativeAI\n",
      "Node: convo_call_model. Type: on_chat_model_stream. Name: ChatGoogleGenerativeAI\n",
      "Node: convo_call_model. Type: on_chat_model_stream. Name: ChatGoogleGenerativeAI\n",
      "Node: convo_call_model. Type: on_chat_model_stream. Name: ChatGoogleGenerativeAI\n",
      "Node: convo_call_model. Type: on_chat_model_stream. Name: ChatGoogleGenerativeAI\n",
      "Node: convo_call_model. Type: on_chat_model_stream. Name: ChatGoogleGenerativeAI\n",
      "Node: convo_call_model. Type: on_chat_model_stream. Name: ChatGoogleGenerativeAI\n",
      "Node: convo_call_model. Type: on_chat_model_stream. Name: ChatGoogleGenerativeAI\n",
      "Node: convo_call_model. Type: on_chat_model_stream. Name: ChatGoogleGenerativeAI\n",
      "Node: convo_call_model. Type: on_chat_model_stream. Name: ChatGoogleGenerativeAI\n",
      "Node: convo_call_model. Type: on_chat_model_stream. Name: ChatGoogleGenerativeAI\n",
      "Node: convo_call_model. Type: on_chat_model_stream. Name: ChatGoogleGenerativeAI\n",
      "Node: convo_call_model. Type: on_chat_model_stream. Name: ChatGoogleGenerativeAI\n",
      "Node: convo_call_model. Type: on_chat_model_stream. Name: ChatGoogleGenerativeAI\n",
      "Node: convo_call_model. Type: on_chat_model_stream. Name: ChatGoogleGenerativeAI\n",
      "Node: convo_call_model. Type: on_chat_model_stream. Name: ChatGoogleGenerativeAI\n",
      "Node: convo_call_model. Type: on_chat_model_stream. Name: ChatGoogleGenerativeAI\n",
      "Node: convo_call_model. Type: on_chat_model_stream. Name: ChatGoogleGenerativeAI\n",
      "Node: convo_call_model. Type: on_chat_model_stream. Name: ChatGoogleGenerativeAI\n",
      "Node: convo_call_model. Type: on_chat_model_stream. Name: ChatGoogleGenerativeAI\n",
      "Node: convo_call_model. Type: on_chat_model_stream. Name: ChatGoogleGenerativeAI\n",
      "Node: convo_call_model. Type: on_chat_model_stream. Name: ChatGoogleGenerativeAI\n",
      "Node: convo_call_model. Type: on_chat_model_stream. Name: ChatGoogleGenerativeAI\n",
      "Node: convo_call_model. Type: on_chat_model_stream. Name: ChatGoogleGenerativeAI\n",
      "Node: convo_call_model. Type: on_chat_model_end. Name: ChatGoogleGenerativeAI\n",
      "Node: convo_call_model. Type: on_chain_start. Name: should_continue\n",
      "Node: convo_call_model. Type: on_chain_end. Name: should_continue\n",
      "Node: convo_call_model. Type: on_chain_stream. Name: convo_call_model\n",
      "Node: convo_call_model. Type: on_chain_end. Name: convo_call_model\n",
      "Node: . Type: on_chain_stream. Name: LangGraph\n",
      "Node: . Type: on_chain_end. Name: LangGraph\n"
     ]
    }
   ],
   "source": [
    "config = {\"configurable\": {\"thread_id\": \"3\"}}\n",
    "\n",
    "input_message = HumanMessage(content=\"Tell me about the 49ers NFL team\")\n",
    "\n",
    "async for event in graph.astream_events( {\"messages\": [input_message]}, config, version=\"v2\"):\n",
    "    print(f\"Node: {event['metadata'].get('langgraph_node','')}. Type: {event['event']}. Name: {event['name']}\")"
   ]
  },
  {
   "cell_type": "markdown",
   "id": "0b63490f-3d24-4f68-95ca-5320ccb61d2d",
   "metadata": {},
   "source": [
    "The central point is that tokens from chat models within your graph have the `on_chat_model_stream` type.\n",
    "\n",
    "We can use `event['metadata']['langgraph_node']` to select the node to stream from.\n",
    "\n",
    "And we can use `event['data']` to get the actual data for each event, which in this case is an `AIMessageChunk`. "
   ]
  },
  {
   "cell_type": "code",
   "execution_count": 36,
   "id": "cc3529f8-3960-4d41-9ed6-373f93183950",
   "metadata": {
    "scrolled": true
   },
   "outputs": [
    {
     "name": "stdout",
     "output_type": "stream",
     "text": [
      "{'chunk': AIMessageChunk(content='Okay', additional_kwargs={}, response_metadata={'safety_ratings': []}, id='run--5c9d3841-b947-41ae-845d-f067ff22a286', usage_metadata={'input_tokens': 3342, 'output_tokens': 0, 'total_tokens': 3342, 'input_token_details': {'cache_read': 0}})}\n",
      "{'chunk': AIMessageChunk(content=\", let'\", additional_kwargs={}, response_metadata={'safety_ratings': []}, id='run--5c9d3841-b947-41ae-845d-f067ff22a286', usage_metadata={'input_tokens': 0, 'input_token_details': {'cache_read': 0}, 'total_tokens': 0, 'output_tokens': 0})}\n",
      "{'chunk': AIMessageChunk(content='s dive deep into the current state of astronomy! \"Astronomy now\" is a vibrant and', additional_kwargs={}, response_metadata={'safety_ratings': []}, id='run--5c9d3841-b947-41ae-845d-f067ff22a286', usage_metadata={'input_tokens': 0, 'input_token_details': {'cache_read': 0}, 'total_tokens': 0, 'output_tokens': 0})}\n",
      "{'chunk': AIMessageChunk(content=' rapidly evolving field, driven by technological advancements, ambitious missions, and a constant quest to understand the', additional_kwargs={}, response_metadata={'safety_ratings': []}, id='run--5c9d3841-b947-41ae-845d-f067ff22a286', usage_metadata={'input_tokens': 0, 'input_token_details': {'cache_read': 0}, 'total_tokens': 0, 'output_tokens': 0})}\n",
      "{'chunk': AIMessageChunk(content=\" universe. Here's a comprehensive overview:\\n\\n**I. Key Research Areas & Hot Topics:**\\n\\n*   **Exoplanet Science:**\\n    *\", additional_kwargs={}, response_metadata={'safety_ratings': []}, id='run--5c9d3841-b947-41ae-845d-f067ff22a286', usage_metadata={'input_tokens': 0, 'input_token_details': {'cache_read': 0}, 'total_tokens': 0, 'output_tokens': 0})}\n",
      "{'chunk': AIMessageChunk(content='   **The Habitable Zone & Beyond:** The search for Earth-like exoplanets within the habitable zones of their stars (where liquid water could exist)', additional_kwargs={}, response_metadata={'safety_ratings': []}, id='run--5c9d3841-b947-41ae-845d-f067ff22a286', usage_metadata={'input_tokens': 0, 'input_token_details': {'cache_read': 0}, 'total_tokens': 0, 'output_tokens': 0})}\n",
      "{'chunk': AIMessageChunk(content=' remains a central focus. However, research is also expanding to consider planets outside the traditional habitable zone, exploring possibilities like subsurface oceans or alternative biochemistries.\\n    *   **Atmospheric Characterization:** The James Webb Space Telescope (JWST)', additional_kwargs={}, response_metadata={'safety_ratings': []}, id='run--5c9d3841-b947-41ae-845d-f067ff22a286', usage_metadata={'input_tokens': 0, 'input_token_details': {'cache_read': 0}, 'total_tokens': 0, 'output_tokens': 0})}\n",
      "{'chunk': AIMessageChunk(content=\" is revolutionizing exoplanet atmospheric studies. It's detecting molecules like water, methane, carbon dioxide, and even potential biosignatures (indicators of life) in exoplanet atmospheres. This includes looking for disequilibrium chemistry, where the presence\", additional_kwargs={}, response_metadata={'safety_ratings': []}, id='run--5c9d3841-b947-41ae-845d-f067ff22a286', usage_metadata={'input_tokens': 0, 'input_token_details': {'cache_read': 0}, 'total_tokens': 0, 'output_tokens': 0})}\n",
      "{'chunk': AIMessageChunk(content=' of certain molecules suggests biological activity.\\n    *   **Exoplanet Diversity:** Astronomers are discovering an incredible diversity of exoplanets, from hot Jupiters to super-Earths to mini-Neptunes. Understanding the formation and evolution of these diverse worlds is a major challenge.\\n    *   **Direct', additional_kwargs={}, response_metadata={'safety_ratings': []}, id='run--5c9d3841-b947-41ae-845d-f067ff22a286', usage_metadata={'input_tokens': 0, 'input_token_details': {'cache_read': 0}, 'total_tokens': 0, 'output_tokens': 0})}\n",
      "{'chunk': AIMessageChunk(content=' Imaging:** Techniques for directly imaging exoplanets are improving, allowing astronomers to study their properties in more detail. Future missions are planned to enhance direct imaging capabilities.\\n*   **Cosmology & the Early Universe:**\\n    *   **Dark Matter & Dark Energy:** The nature of dark matter and dark energy remains a', additional_kwargs={}, response_metadata={'safety_ratings': []}, id='run--5c9d3841-b947-41ae-845d-f067ff22a286', usage_metadata={'input_tokens': 0, 'input_token_details': {'cache_read': 0}, 'total_tokens': 0, 'output_tokens': 0})}\n",
      "{'chunk': AIMessageChunk(content=' profound mystery. Current research involves:\\n        *   **Mapping Dark Matter Distribution:** Using gravitational lensing and galaxy surveys to map the distribution of dark matter in the universe.\\n        *   **Searching for Dark Matter Particles:** Direct and indirect detection experiments are searching for dark matter particles in the lab and in space.\\n        *   ', additional_kwargs={}, response_metadata={'safety_ratings': []}, id='run--5c9d3841-b947-41ae-845d-f067ff22a286', usage_metadata={'input_tokens': 0, 'input_token_details': {'cache_read': 0}, 'total_tokens': 0, 'output_tokens': 0})}\n",
      "{'chunk': AIMessageChunk(content='**Exploring Modified Gravity Theories:** Some researchers are exploring alternative theories of gravity that could explain the accelerated expansion of the universe without invoking dark energy.\\n    *   **Cosmic Inflation:** Evidence for cosmic inflation (a period of rapid expansion in the very early universe) continues to grow. Researchers are studying the cosmic microwave background (CM', additional_kwargs={}, response_metadata={'safety_ratings': []}, id='run--5c9d3841-b947-41ae-845d-f067ff22a286', usage_metadata={'input_tokens': 0, 'input_token_details': {'cache_read': 0}, 'total_tokens': 0, 'output_tokens': 0})}\n",
      "{'chunk': AIMessageChunk(content='B) for signatures of inflation, such as primordial gravitational waves.\\n    *   **The Epoch of Reionization:** Understanding how the first stars and galaxies reionized the universe after the Big Bang is a key area of research. JWST is providing unprecedented views of galaxies in the early universe, helping to shed light on this process', additional_kwargs={}, response_metadata={'safety_ratings': []}, id='run--5c9d3841-b947-41ae-845d-f067ff22a286', usage_metadata={'input_tokens': 0, 'input_token_details': {'cache_read': 0}, 'total_tokens': 0, 'output_tokens': 0})}\n",
      "{'chunk': AIMessageChunk(content='.\\n*   **Galaxies & Galaxy Evolution:**\\n    *   **Supermassive Black Holes (SMBHs):** The relationship between SMBHs and their host galaxies is a central question. Research focuses on:\\n        *   **SMBH Feedback:** How SMBHs influence the evolution of their host galaxies through outflows', additional_kwargs={}, response_metadata={'safety_ratings': []}, id='run--5c9d3841-b947-41ae-845d-f067ff22a286', usage_metadata={'input_tokens': 0, 'input_token_details': {'cache_read': 0}, 'total_tokens': 0, 'output_tokens': 0})}\n",
      "{'chunk': AIMessageChunk(content=' of gas and radiation.\\n        *   **SMBH Mergers:** Studying the mergers of SMBHs in merging galaxies.\\n        *   **The First SMBHs:** Understanding how SMBHs formed in the early universe.\\n    *   **Galaxy Formation & Assembly:** Astronomers are using simulations and observations to study', additional_kwargs={}, response_metadata={'safety_ratings': []}, id='run--5c9d3841-b947-41ae-845d-f067ff22a286', usage_metadata={'input_tokens': 0, 'input_token_details': {'cache_read': 0}, 'total_tokens': 0, 'output_tokens': 0})}\n",
      "{'chunk': AIMessageChunk(content=' how galaxies form and assemble over cosmic time. This includes:\\n        *   **Mergers & Interactions:** The role of galaxy mergers and interactions in shaping galaxy morphology and star formation.\\n        *   **Gas Accretion:** How galaxies acquire gas from the intergalactic medium to fuel star formation.\\n        *   **The', additional_kwargs={}, response_metadata={'safety_ratings': []}, id='run--5c9d3841-b947-41ae-845d-f067ff22a286', usage_metadata={'input_tokens': 0, 'input_token_details': {'cache_read': 0}, 'total_tokens': 0, 'output_tokens': 0})}\n",
      "{'chunk': AIMessageChunk(content=' Circumgalactic Medium (CGM):** Studying the diffuse gas surrounding galaxies, which plays a crucial role in galaxy evolution.\\n    *   **Star Formation in Galaxies:** Understanding the processes that regulate star formation in galaxies is a major goal. This includes:\\n        *   **Molecular Clouds:** Studying the properties of molecular clouds,', additional_kwargs={}, response_metadata={'safety_ratings': []}, id='run--5c9d3841-b947-41ae-845d-f067ff22a286', usage_metadata={'input_tokens': 0, 'input_token_details': {'cache_read': 0}, 'total_tokens': 0, 'output_tokens': 0})}\n",
      "{'chunk': AIMessageChunk(content=' the birthplaces of stars.\\n        *   **Feedback from Star Formation:** How star formation influences the surrounding gas and dust.\\n        *   **The Initial Mass Function (IMF):** Determining the distribution of stellar masses at birth.\\n*   **Stars & Stellar Evolution:**\\n    *   **Stellar Populations', additional_kwargs={}, response_metadata={'safety_ratings': []}, id='run--5c9d3841-b947-41ae-845d-f067ff22a286', usage_metadata={'input_tokens': 0, 'input_token_details': {'cache_read': 0}, 'total_tokens': 0, 'output_tokens': 0})}\n",
      "{'chunk': AIMessageChunk(content=':** Studying the properties of different stellar populations in galaxies to understand their formation histories.\\n    *   **Binary Stars:** Binary stars are common and play a crucial role in stellar evolution. Research focuses on:\\n        *   **Mass Transfer:** How mass transfer between stars in binary systems affects their evolution.\\n        *', additional_kwargs={}, response_metadata={'safety_ratings': []}, id='run--5c9d3841-b947-41ae-845d-f067ff22a286', usage_metadata={'input_tokens': 0, 'input_token_details': {'cache_read': 0}, 'total_tokens': 0, 'output_tokens': 0})}\n",
      "{'chunk': AIMessageChunk(content='   **Supernovae from Binary Systems:** The role of binary stars in producing certain types of supernovae.\\n        *   **Gravitational Wave Sources:** Binary black holes and neutron stars are important sources of gravitational waves.\\n    *   **Stellar Explosions:** Supernovae, novae, and other stellar explosions are important', additional_kwargs={}, response_metadata={'safety_ratings': []}, id='run--5c9d3841-b947-41ae-845d-f067ff22a286', usage_metadata={'input_tokens': 0, 'input_token_details': {'cache_read': 0}, 'total_tokens': 0, 'output_tokens': 0})}\n",
      "{'chunk': AIMessageChunk(content=' sources of heavy elements and play a role in the evolution of galaxies.\\n    *   **Neutron Stars & Black Holes:** Studying the properties of neutron stars and black holes, including their masses, spins, and magnetic fields.\\n*   **Solar System Exploration:**\\n    *   **Mars Exploration:** Missions to Mars are', additional_kwargs={}, response_metadata={'safety_ratings': []}, id='run--5c9d3841-b947-41ae-845d-f067ff22a286', usage_metadata={'input_tokens': 0, 'input_token_details': {'cache_read': 0}, 'total_tokens': 0, 'output_tokens': 0})}\n",
      "{'chunk': AIMessageChunk(content=\" searching for evidence of past or present life and studying the planet's geology and climate.\\n    *   **Ocean Worlds:** Exploring ocean worlds like Europa and Enceladus, which may harbor liquid water oceans beneath their icy surfaces.\\n    *   **Asteroid & Comet Missions:** Missions to asteroids and comets are\", additional_kwargs={}, response_metadata={'safety_ratings': []}, id='run--5c9d3841-b947-41ae-845d-f067ff22a286', usage_metadata={'input_tokens': 0, 'input_token_details': {'cache_read': 0}, 'total_tokens': 0, 'output_tokens': 0})}\n",
      "{'chunk': AIMessageChunk(content=' providing insights into the formation and evolution of the solar system.\\n    *   **Planetary Defense:** Developing strategies to protect Earth from asteroid impacts.\\n    *   **Space Weather:** Understanding and predicting space weather, which can disrupt communications and power grids.\\n\\n**II. Key Technologies & Observatories:**\\n\\n*   ', additional_kwargs={}, response_metadata={'safety_ratings': []}, id='run--5c9d3841-b947-41ae-845d-f067ff22a286', usage_metadata={'input_tokens': 0, 'input_token_details': {'cache_read': 0}, 'total_tokens': 0, 'output_tokens': 0})}\n",
      "{'chunk': AIMessageChunk(content='**Ground-Based Telescopes:**\\n    *   **Extremely Large Telescopes (ELTs):** The Extremely Large Telescope (ELT), the Thirty Meter Telescope (TMT), and the Giant Magellan Telescope (GMT) will revolutionize ground-based astronomy with their unprecedented light-gathering power and resolution.\\n    *', additional_kwargs={}, response_metadata={'safety_ratings': []}, id='run--5c9d3841-b947-41ae-845d-f067ff22a286', usage_metadata={'input_tokens': 0, 'input_token_details': {'cache_read': 0}, 'total_tokens': 0, 'output_tokens': 0})}\n",
      "{'chunk': AIMessageChunk(content='   **Adaptive Optics (AO):** AO systems are constantly improving, allowing ground-based telescopes to achieve near-space-based image quality.\\n    *   **Radio Telescopes:** ALMA, the Very Large Array (VLA), and other radio telescopes are providing unique insights into the universe at radio wavelengths.', additional_kwargs={}, response_metadata={'safety_ratings': []}, id='run--5c9d3841-b947-41ae-845d-f067ff22a286', usage_metadata={'input_tokens': 0, 'input_token_details': {'cache_read': 0}, 'total_tokens': 0, 'output_tokens': 0})}\n",
      "{'chunk': AIMessageChunk(content=' The Square Kilometre Array (SKA) is a future radio telescope that will be the largest and most sensitive ever built.\\n*   **Space-Based Telescopes:**\\n    *   **James Webb Space Telescope (JWST):** JWST is the flagship mission of the decade, providing unprecedented views of the', additional_kwargs={}, response_metadata={'safety_ratings': []}, id='run--5c9d3841-b947-41ae-845d-f067ff22a286', usage_metadata={'input_tokens': 0, 'input_token_details': {'cache_read': 0}, 'total_tokens': 0, 'output_tokens': 0})}\n",
      "{'chunk': AIMessageChunk(content=' universe in infrared light.\\n    *   **Hubble Space Telescope (HST):** HST continues to make valuable observations in the visible and ultraviolet wavelengths.\\n    *   **Chandra X-ray Observatory & XMM-Newton:** These X-ray telescopes are studying black holes, neutron stars, and hot gas', additional_kwargs={}, response_metadata={'safety_ratings': []}, id='run--5c9d3841-b947-41ae-845d-f067ff22a286', usage_metadata={'input_tokens': 0, 'input_token_details': {'cache_read': 0}, 'total_tokens': 0, 'output_tokens': 0})}\n",
      "{'chunk': AIMessageChunk(content=' in galaxies.\\n    *   **Future Missions:** Several future space-based telescopes are planned, including the Nancy Grace Roman Space Telescope (which will study dark energy and exoplanets) and the Laser Interferometer Space Antenna (LISA), which will detect gravitational waves from space.\\n*   **Computational Astronomy:**\\n    *', additional_kwargs={}, response_metadata={'safety_ratings': []}, id='run--5c9d3841-b947-41ae-845d-f067ff22a286', usage_metadata={'input_tokens': 0, 'input_token_details': {'cache_read': 0}, 'total_tokens': 0, 'output_tokens': 0})}\n",
      "{'chunk': AIMessageChunk(content='   **High-Performance Computing:** Astronomers rely on high-performance computing to run simulations of the universe and analyze large datasets.\\n    *   **Machine Learning & Artificial Intelligence:** Machine learning and AI are playing an increasingly important role in astronomy, helping to identify patterns in data and automate tasks.\\n    *   **Data Visualization', additional_kwargs={}, response_metadata={'safety_ratings': []}, id='run--5c9d3841-b947-41ae-845d-f067ff22a286', usage_metadata={'input_tokens': 0, 'input_token_details': {'cache_read': 0}, 'total_tokens': 0, 'output_tokens': 0})}\n",
      "{'chunk': AIMessageChunk(content=\":** Advanced data visualization techniques are used to explore and communicate astronomical data.\\n\\n**III. Recent Discoveries & Breakthroughs:**\\n\\n*   **JWST's Early Universe Observations:** JWST has discovered galaxies at incredibly high redshifts, pushing back our understanding of galaxy formation to within the first few hundred million years after the\", additional_kwargs={}, response_metadata={'safety_ratings': []}, id='run--5c9d3841-b947-41ae-845d-f067ff22a286', usage_metadata={'input_tokens': 0, 'input_token_details': {'cache_read': 0}, 'total_tokens': 0, 'output_tokens': 0})}\n",
      "{'chunk': AIMessageChunk(content=' Big Bang.\\n*   **Exoplanet Atmosphere Detections:** JWST has detected a variety of molecules in exoplanet atmospheres, including water, methane, carbon dioxide, and even potential biosignatures.\\n*   **Gravitational Wave Astronomy:** The detection of gravitational waves from merging black holes and neutron stars continues', additional_kwargs={}, response_metadata={'safety_ratings': []}, id='run--5c9d3841-b947-41ae-845d-f067ff22a286', usage_metadata={'input_tokens': 0, 'input_token_details': {'cache_read': 0}, 'total_tokens': 0, 'output_tokens': 0})}\n",
      "{'chunk': AIMessageChunk(content=' to provide new insights into these objects and the processes that drive their mergers.\\n*   **Black Hole Imaging:** The Event Horizon Telescope (EHT) has captured images of the shadow of the supermassive black hole at the center of our galaxy, Sagittarius A*, and the black hole in the galaxy M87.\\n\\n**', additional_kwargs={}, response_metadata={'safety_ratings': []}, id='run--5c9d3841-b947-41ae-845d-f067ff22a286', usage_metadata={'input_tokens': 0, 'input_token_details': {'cache_read': 0}, 'total_tokens': 0, 'output_tokens': 0})}\n",
      "{'chunk': AIMessageChunk(content='IV. Challenges & Future Directions:**\\n\\n*   **Understanding Dark Matter & Dark Energy:** Determining the nature of dark matter and dark energy remains one of the biggest challenges in cosmology.\\n*   **Finding Life Beyond Earth:** The search for extraterrestrial life is a major goal of astronomy.\\n*   **Developing New Technologies:** Astronomy', additional_kwargs={}, response_metadata={'safety_ratings': []}, id='run--5c9d3841-b947-41ae-845d-f067ff22a286', usage_metadata={'input_tokens': 0, 'input_token_details': {'cache_read': 0}, 'total_tokens': 0, 'output_tokens': 0})}\n",
      "{'chunk': AIMessageChunk(content=\" is constantly pushing the boundaries of technology.\\n*   **Addressing Ethical Considerations:** As astronomy becomes more powerful, it's important to consider the ethical implications of our research, such as the impact of space debris on future missions.\\n*   **Promoting Diversity & Inclusion:** Astronomy needs to be more diverse and inclusive to attract\", additional_kwargs={}, response_metadata={'safety_ratings': []}, id='run--5c9d3841-b947-41ae-845d-f067ff22a286', usage_metadata={'input_tokens': 0, 'input_token_details': {'cache_read': 0}, 'total_tokens': 0, 'output_tokens': 0})}\n",
      "{'chunk': AIMessageChunk(content=' the best talent and ensure that everyone has the opportunity to contribute to the field.\\n\\n**V. How to Stay Informed:**\\n\\n*   **Read Popular Science Articles:** Magazines like *Sky & Telescope*, *Astronomy*, and websites like Space.com and NASA.gov.\\n*   **Follow Astronomers on', additional_kwargs={}, response_metadata={'safety_ratings': []}, id='run--5c9d3841-b947-41ae-845d-f067ff22a286', usage_metadata={'input_tokens': 0, 'input_token_details': {'cache_read': 0}, 'total_tokens': 0, 'output_tokens': 0})}\n",
      "{'chunk': AIMessageChunk(content=' Social Media:** Many astronomers are active on Twitter and other social media platforms.\\n*   **Attend Public Lectures & Events:** Many universities and observatories offer public lectures and events on astronomy.\\n*   **Check Pre-print Servers:** arXiv.org hosts pre-prints of scientific papers.\\n*   **Read Scientific', additional_kwargs={}, response_metadata={'safety_ratings': []}, id='run--5c9d3841-b947-41ae-845d-f067ff22a286', usage_metadata={'input_tokens': 0, 'input_token_details': {'cache_read': 0}, 'total_tokens': 0, 'output_tokens': 0})}\n",
      "{'chunk': AIMessageChunk(content=' Journals:** Journals like *The Astrophysical Journal*, *The Astronomical Journal*, and *Nature Astronomy* publish cutting-edge research in astronomy. (These are often behind paywalls, but university libraries often provide access).\\n\\nAstronomy is a truly exciting field, constantly pushing the boundaries of human knowledge and revealing the wonders of the universe', additional_kwargs={}, response_metadata={'safety_ratings': []}, id='run--5c9d3841-b947-41ae-845d-f067ff22a286', usage_metadata={'input_tokens': 0, 'input_token_details': {'cache_read': 0}, 'total_tokens': 0, 'output_tokens': 0})}\n",
      "{'chunk': AIMessageChunk(content='. The next decade promises to be a golden age of discovery, with new telescopes and missions poised to revolutionize our understanding of the cosmos.\\n', additional_kwargs={}, response_metadata={'finish_reason': 'STOP', 'model_name': 'gemini-2.0-flash', 'safety_ratings': []}, id='run--5c9d3841-b947-41ae-845d-f067ff22a286', usage_metadata={'input_tokens': -33, 'input_token_details': {'cache_read': 0}, 'total_tokens': 2087, 'output_tokens': 2120})}\n"
     ]
    }
   ],
   "source": [
    "config = {\"configurable\" : {\"thread_id\" : \"3\"}}\n",
    "\n",
    "inputmessage = [HumanMessage(content=\"tell me alot about the Astronomy now\")]\n",
    "\n",
    "async for event in graph.astream_events( {\"messages\" : inputmessage}, config, version=\"v2\" ):\n",
    "    if event[\"event\"] == \"on_chat_model_stream\" and event[\"metadata\"].get(\"langgraph_node\", '') == \"convo_call_model\":\n",
    "        data = event[\"data\"]\n",
    "        print(event[\"data\"])"
   ]
  },
  {
   "cell_type": "code",
   "execution_count": null,
   "id": "7ff65f2f-c1b0-4a55-bbd4-acb238867bcf",
   "metadata": {},
   "outputs": [],
   "source": []
  },
  {
   "cell_type": "markdown",
   "id": "226e569a-76c3-43d8-8f89-3ae687efde1c",
   "metadata": {},
   "source": [
    "As you see above, just use the `chunk` key to get the `AIMessageChunk`."
   ]
  },
  {
   "cell_type": "code",
   "execution_count": 38,
   "id": "3aeae53d-6dcf-40d0-a0c6-c40de492cc83",
   "metadata": {
    "scrolled": true
   },
   "outputs": [
    {
     "name": "stdout",
     "output_type": "stream",
     "text": [
      "Alright|, let's dive into the San Francisco 49ers! Here'|s a breakdown of the team, covering their history, notable players, recent performance, and more|:\n",
      "\n",
      "**General Information:**\n",
      "\n",
      "*   **Team Name:** San Francisco 49ers (often shortened to \"Niners\" or \"49ers\")\n",
      "*|   **City:** Santa Clara, California (though they represent the San Francisco Bay Area)\n",
      "*   **Conference:** National Football Conference (NFC)\n",
      "*   **|Division:** NFC West\n",
      "*   **Founded:** 1946 (as part of the All-America Football Conference - AAFC)\n",
      "*   **Joined NFL:** 1950\n",
      "*   **Home Stadium:** Levi'|s Stadium (opened in 2014)\n",
      "*   **Team Colors:** Red, Gold, and White\n",
      "*   **Mascot:** Sourdough Sam\n",
      "\n",
      "**History and Legacy:**\n",
      "\n",
      "*   **Early Years| (AAFC and Early NFL):** The 49ers were initially a successful team in the AAFC before joining the NFL. They had some talented players but didn't achieve major success in their early NFL years.\n",
      "*   **The Bill Walsh Era (1979-1988):** This is| arguably the most iconic period in 49ers history. Head Coach Bill Walsh implemented the \"West Coast Offense,\" a revolutionary passing scheme emphasizing short, precise routes and timing.\n",
      "    *   **Joe Montana:** Quarterback Joe Montana became the face of the franchise and one of the greatest quarterbacks of all time under| Walsh's tutelage.\n",
      "    *   **Super Bowl Wins:** The 49ers won four Super Bowls during this era (XVI, XIX, XXIII, XXIV).\n",
      "    *   **Other Key Players:** Wide receiver Dwight Clark (of \"The Catch\" fame), running back Roger Craig, and receiver| Jerry Rice (who arrived later but became the greatest receiver ever) were crucial to their success.\n",
      "*   **The Steve Young Era (1991-1999):** After Montana's departure, Steve Young stepped in and continued the 49ers' winning tradition.\n",
      "    *   **Super Bowl| XXIX:** Young led the 49ers to another Super Bowl victory in 1995, throwing a record-breaking six touchdown passes.\n",
      "    *   **Continued Dominance:** The 49ers remained a consistent playoff contender throughout the 1990s.\n",
      "*   **Post|-Young Era:** The 49ers experienced a period of struggles and rebuilding after Young's retirement.\n",
      "*   **Jim Harbaugh Era (2011-2014):** Harbaugh brought the 49ers back to prominence, leading them to three consecutive NFC Championship games and a Super Bowl appearance| (XLVII), which they lost to the Baltimore Ravens.\n",
      "*   **Kyle Shanahan Era (2017-Present):** Shanahan, known for his offensive play-calling, has revitalized the 49ers.\n",
      "    *   **Super Bowl LIV:** He led the team to Super| Bowl LIV in 2020, where they lost to the Kansas City Chiefs.\n",
      "    *   **Recent Success:** The 49ers have remained a strong contender in the NFC, reaching the NFC Championship game multiple times.\n",
      "    *   **Super Bowl LVIII:** The 49ers played| in Super Bowl LVIII in 2024, losing to the Kansas City Chiefs in overtime.\n",
      "\n",
      "**Key Players (Past and Present):**\n",
      "\n",
      "*   **Joe Montana (QB):** Arguably the greatest quarterback in NFL history. Known for his poise, accuracy, and Super Bowl success.\n",
      "*   |**Jerry Rice (WR):** Widely considered the greatest wide receiver of all time. Holds numerous NFL records.\n",
      "*   **Steve Young (QB):** A highly talented and mobile quarterback who succeeded Montana and led the 49ers to another Super Bowl.\n",
      "*   **Ronnie Lott (S):** A| hard-hitting and intimidating safety who was a key part of the 49ers' dominant defense in the 1980s.\n",
      "*   **Dwight Clark (WR):** Best known for \"The Catch,\" a game-winning touchdown reception in the 1981 NFC Championship game.\n",
      "|*   **George Kittle (TE):** A current star tight end known for his blocking and receiving abilities.\n",
      "*   **Nick Bosa (DE):** A dominant defensive end and pass rusher.\n",
      "*   **Christian McCaffrey (RB):** A versatile running back acquired in 20|22, known for his rushing and receiving skills.\n",
      "*   **Brock Purdy (QB):** The current starting quarterback, drafted last overall in 2022, who has led the team to success.\n",
      "\n",
      "**Championships:**\n",
      "\n",
      "*   **Super Bowl Championships:** 5 (XVI, XIX|, XXIII, XXIV, XXIX)\n",
      "*   **NFC Championships:** 8\n",
      "*   **Division Championships:** 21\n",
      "\n",
      "**Current State of the Team:**\n",
      "\n",
      "*   The 49ers are consistently a Super Bowl contender under Kyle Shanahan.\n",
      "*   They have a strong roster with| talent on both offense and defense.\n",
      "*   The team is well-coached and has a clear identity.\n",
      "*   They are a major force in the NFC West.\n",
      "\n",
      "**Things to Know:**\n",
      "\n",
      "*   **\"The Catch\":** Dwight Clark's game-winning catch against the Dallas Cowboys in the |1981 NFC Championship game is one of the most iconic plays in NFL history.\n",
      "*   **The West Coast Offense:** Bill Walsh's offensive system revolutionized the NFL and became a model for many other teams.\n",
      "*   **Levi's Stadium:** The 49ers' current home stadium is located| in Santa Clara, about 45 miles south of San Francisco.\n",
      "*   **Faithful to The Bay:** The 49ers have a large and passionate fanbase throughout the San Francisco Bay Area.\n",
      "\n",
      "In summary, the San Francisco 49ers are a storied franchise with a rich history of success.| They have been home to some of the greatest players in NFL history and have consistently been a contender for championships. They are currently one of the top teams in the league and are poised to continue their winning tradition.\n",
      "|"
     ]
    }
   ],
   "source": [
    "config = {\"configurable\": {\"thread_id\": \"5\"}}\n",
    "\n",
    "input_message = HumanMessage(content=\"Tell me about the 49ers NFL team\")\n",
    "\n",
    "async for event in graph.astream_events( {\"messages\": [input_message] }, config, version=\"v2\"):\n",
    "    # Get chat model tokens from a particular node \n",
    "    if event[\"event\"] == \"on_chat_model_stream\" and event['metadata'].get('langgraph_node','') == \"convo_call_model\":\n",
    "        data = event[\"data\"]\n",
    "        print(data[\"chunk\"].content, end=\"|\")"
   ]
  },
  {
   "cell_type": "code",
   "execution_count": null,
   "id": "cda8773c-b2a4-4fa3-a1b9-e7b12a825917",
   "metadata": {},
   "outputs": [],
   "source": []
  },
  {
   "attachments": {},
   "cell_type": "markdown",
   "id": "5826e4d8-846b-4f6c-a5c1-e781d43022db",
   "metadata": {},
   "source": [
    "### Streaming with LangGraph API\n",
    "\n",
    "**⚠️ DISCLAIMER**\n",
    "\n",
    "Since the filming of these videos, we've updated Studio so that it can be run locally and opened in your browser. This is now the preferred way to run Studio (rather than using the Desktop App as shown in the video). See documentation [here](https://langchain-ai.github.io/langgraph/concepts/langgraph_studio/#local-development-server) on the local development server and [here](https://langchain-ai.github.io/langgraph/how-tos/local-studio/#run-the-development-server). To start the local development server, run the following command in your terminal in the `/studio` directory in this module:\n",
    "\n",
    "```\n",
    "langgraph dev\n",
    "```\n",
    "\n",
    "You should see the following output:\n",
    "```\n",
    "- 🚀 API: http://127.0.0.1:2024\n",
    "- 🎨 Studio UI: https://smith.langchain.com/studio/?baseUrl=http://127.0.0.1:2024\n",
    "- 📚 API Docs: http://127.0.0.1:2024/docs\n",
    "```\n",
    "\n",
    "Open your browser and navigate to the Studio UI: `https://smith.langchain.com/studio/?baseUrl=http://127.0.0.1:2024`.\n",
    "\n",
    "The LangGraph API [supports editing graph state](https://langchain-ai.github.io/langgraph/cloud/how-tos/human_in_the_loop_edit_state/#initial-invocation). "
   ]
  },
  {
   "cell_type": "code",
   "execution_count": 39,
   "id": "8925b632-512b-48e1-9220-61c06bfbf0b8",
   "metadata": {},
   "outputs": [],
   "source": [
    "if 'google.colab' in str(get_ipython()):\n",
    "    raise Exception(\"Unfortunately LangGraph Studio is currently not supported on Google Colab\")"
   ]
  },
  {
   "cell_type": "code",
   "execution_count": 41,
   "id": "079c2ad6",
   "metadata": {},
   "outputs": [],
   "source": [
    "from langgraph_sdk import get_client\n",
    "\n",
    "# This is the URL of the local development server\n",
    "URL = \"http://127.0.0.1:2024\"\n",
    "client = get_client(url=URL)\n",
    "\n",
    "# Search all hosted graphs\n",
    "assistants = await client.assistants.search()"
   ]
  },
  {
   "cell_type": "markdown",
   "id": "4d15af9e-0e86-41e3-a5ba-ee2a4aa08a32",
   "metadata": {},
   "source": [
    "Let's [stream `values`](https://langchain-ai.github.io/langgraph/cloud/how-tos/stream_values/), like before."
   ]
  },
  {
   "cell_type": "code",
   "execution_count": 42,
   "id": "63e3096f-5429-4d3c-8de2-2bddf7266ebf",
   "metadata": {},
   "outputs": [
    {
     "name": "stdout",
     "output_type": "stream",
     "text": [
      "StreamPart(event='metadata', data={'run_id': '1f076da7-e7c6-6109-96cc-403735dae776', 'attempt': 1})\n",
      "StreamPart(event='values', data={'messages': [{'content': 'Multiply 2 and 3', 'additional_kwargs': {}, 'response_metadata': {}, 'type': 'human', 'name': None, 'id': '5d329d02-84ee-4d99-a62a-0022ea72f999', 'example': False}]})\n",
      "StreamPart(event='values', data={'messages': [{'content': 'Multiply 2 and 3', 'additional_kwargs': {}, 'response_metadata': {}, 'type': 'human', 'name': None, 'id': '5d329d02-84ee-4d99-a62a-0022ea72f999', 'example': False}, {'content': '', 'additional_kwargs': {'function_call': {'name': 'multiply', 'arguments': '{\"b\": 3.0, \"a\": 2.0}'}}, 'response_metadata': {'prompt_feedback': {'block_reason': 0, 'safety_ratings': []}, 'finish_reason': 'STOP', 'model_name': 'gemini-2.0-flash', 'safety_ratings': []}, 'type': 'ai', 'name': None, 'id': 'run--0bb75dbd-570f-4de6-bf24-31014b122f58-0', 'example': False, 'tool_calls': [{'name': 'multiply', 'args': {'b': 3.0, 'a': 2.0}, 'id': '14e3d1be-2a1f-489c-a326-6a0b32b13aeb', 'type': 'tool_call'}], 'invalid_tool_calls': [], 'usage_metadata': {'input_tokens': 63, 'output_tokens': 5, 'total_tokens': 68, 'input_token_details': {'cache_read': 0}}}]})\n",
      "StreamPart(event='values', data={'messages': [{'content': 'Multiply 2 and 3', 'additional_kwargs': {}, 'response_metadata': {}, 'type': 'human', 'name': None, 'id': '5d329d02-84ee-4d99-a62a-0022ea72f999', 'example': False}, {'content': '', 'additional_kwargs': {'function_call': {'name': 'multiply', 'arguments': '{\"b\": 3.0, \"a\": 2.0}'}}, 'response_metadata': {'prompt_feedback': {'block_reason': 0, 'safety_ratings': []}, 'finish_reason': 'STOP', 'model_name': 'gemini-2.0-flash', 'safety_ratings': []}, 'type': 'ai', 'name': None, 'id': 'run--0bb75dbd-570f-4de6-bf24-31014b122f58-0', 'example': False, 'tool_calls': [{'name': 'multiply', 'args': {'b': 3.0, 'a': 2.0}, 'id': '14e3d1be-2a1f-489c-a326-6a0b32b13aeb', 'type': 'tool_call'}], 'invalid_tool_calls': [], 'usage_metadata': {'input_tokens': 63, 'output_tokens': 5, 'total_tokens': 68, 'input_token_details': {'cache_read': 0}}}, {'content': '6', 'additional_kwargs': {}, 'response_metadata': {}, 'type': 'tool', 'name': 'multiply', 'id': '6a8dea7d-8ce6-43de-b504-e5965d2e86b6', 'tool_call_id': '14e3d1be-2a1f-489c-a326-6a0b32b13aeb', 'artifact': None, 'status': 'success'}]})\n",
      "StreamPart(event='', data=None)\n",
      "StreamPart(event='values', data={'messages': [{'content': 'Multiply 2 and 3', 'additional_kwargs': {}, 'response_metadata': {}, 'type': 'human', 'name': None, 'id': '5d329d02-84ee-4d99-a62a-0022ea72f999', 'example': False}, {'content': '', 'additional_kwargs': {'function_call': {'name': 'multiply', 'arguments': '{\"b\": 3.0, \"a\": 2.0}'}}, 'response_metadata': {'prompt_feedback': {'block_reason': 0, 'safety_ratings': []}, 'finish_reason': 'STOP', 'model_name': 'gemini-2.0-flash', 'safety_ratings': []}, 'type': 'ai', 'name': None, 'id': 'run--0bb75dbd-570f-4de6-bf24-31014b122f58-0', 'example': False, 'tool_calls': [{'name': 'multiply', 'args': {'b': 3.0, 'a': 2.0}, 'id': '14e3d1be-2a1f-489c-a326-6a0b32b13aeb', 'type': 'tool_call'}], 'invalid_tool_calls': [], 'usage_metadata': {'input_tokens': 63, 'output_tokens': 5, 'total_tokens': 68, 'input_token_details': {'cache_read': 0}}}, {'content': '6', 'additional_kwargs': {}, 'response_metadata': {}, 'type': 'tool', 'name': 'multiply', 'id': '6a8dea7d-8ce6-43de-b504-e5965d2e86b6', 'tool_call_id': '14e3d1be-2a1f-489c-a326-6a0b32b13aeb', 'artifact': None, 'status': 'success'}, {'content': 'The result of multiplying 2 and 3 is 6.', 'additional_kwargs': {}, 'response_metadata': {'prompt_feedback': {'block_reason': 0, 'safety_ratings': []}, 'finish_reason': 'STOP', 'model_name': 'gemini-2.0-flash', 'safety_ratings': []}, 'type': 'ai', 'name': None, 'id': 'run--364cf57c-6fad-494d-95e9-0a87d85345aa-0', 'example': False, 'tool_calls': [], 'invalid_tool_calls': [], 'usage_metadata': {'input_tokens': 71, 'output_tokens': 14, 'total_tokens': 85, 'input_token_details': {'cache_read': 0}}}]})\n"
     ]
    }
   ],
   "source": [
    "# Create a new thread\n",
    "thread = await client.threads.create()\n",
    "# Input message\n",
    "input_message = HumanMessage(content=\"Multiply 2 and 3\")\n",
    "\n",
    "async for event in client.runs.stream(thread[\"thread_id\"], assistant_id=\"agent\", input={\"messages\": [input_message]}, stream_mode=\"values\"):\n",
    "    print(event)"
   ]
  },
  {
   "cell_type": "markdown",
   "id": "556dc7fd-1cae-404f-816a-f13d772b3b14",
   "metadata": {},
   "source": [
    "The streamed objects have: \n",
    "\n",
    "* `event`: Type\n",
    "* `data`: State"
   ]
  },
  {
   "cell_type": "code",
   "execution_count": 60,
   "id": "57b735aa-139c-45a3-a850-63519c0004f0",
   "metadata": {},
   "outputs": [
    {
     "name": "stdout",
     "output_type": "stream",
     "text": [
      "=========================\n",
      "content='Multiply 2 and 3' additional_kwargs={} response_metadata={} id='b144f5ca-5afb-41ae-b509-70e1103b728f'\n",
      "=========================\n",
      "content='' additional_kwargs={'invalid_tool_calls': [], 'usage_metadata': {'input_tokens': 63, 'output_tokens': 5, 'total_tokens': 68, 'input_token_details': {'cache_read': 0}}, 'function_call': {'name': 'multiply', 'arguments': '{\"b\": 3.0, \"a\": 2.0}'}} response_metadata={'prompt_feedback': {'block_reason': 0, 'safety_ratings': []}, 'finish_reason': 'STOP', 'model_name': 'gemini-2.0-flash', 'safety_ratings': []} id='run--3f93c274-a0fc-4957-a0be-9576120eed62-0' tool_calls=[{'name': 'multiply', 'args': {'b': 3.0, 'a': 2.0}, 'id': '5e53c26d-21a4-44ef-9dcb-70bf657ff650', 'type': 'tool_call'}]\n",
      "=========================\n",
      "content='6' name='multiply' id='6e4b1c63-5503-400f-9aae-144df3d02d33' tool_call_id='5e53c26d-21a4-44ef-9dcb-70bf657ff650'\n",
      "=========================\n",
      "content='The result of multiplying 2 and 3 is 6.' additional_kwargs={'invalid_tool_calls': [], 'usage_metadata': {'input_tokens': 71, 'output_tokens': 14, 'total_tokens': 85, 'input_token_details': {'cache_read': 0}}} response_metadata={'prompt_feedback': {'block_reason': 0, 'safety_ratings': []}, 'finish_reason': 'STOP', 'model_name': 'gemini-2.0-flash', 'safety_ratings': []} id='run--8ee7852b-0389-47c1-850a-2b2e13c743bd-0'\n",
      "=========================\n"
     ]
    }
   ],
   "source": [
    "from langchain_core.messages import convert_to_messages\n",
    "\n",
    "thread = await client.threads.create()\n",
    "\n",
    "input_message = HumanMessage(content=\"Multiply 2 and 3\")\n",
    "\n",
    "async for event in client.runs.stream(thread[\"thread_id\"], assistant_id=\"agent\", input={\"messages\": [input_message]}, stream_mode=\"values\"):\n",
    "    messages = event.data.get('messages', None)\n",
    "    if messages:\n",
    "        print(convert_to_messages(messages)[-1])\n",
    "    print('='*25)"
   ]
  },
  {
   "cell_type": "code",
   "execution_count": null,
   "id": "974c1057-580a-4a48-b276-7c955afa5ae4",
   "metadata": {},
   "outputs": [],
   "source": []
  },
  {
   "cell_type": "markdown",
   "id": "a555d186-27be-4ddf-934c-895a3105035d",
   "metadata": {},
   "source": [
    "There are some new streaming mode that are only supported via the API.\n",
    "\n",
    "For example, we can [use `messages` mode](https://langchain-ai.github.io/langgraph/cloud/how-tos/stream_messages/) to better handle the above case!\n",
    "\n",
    "This mode currently assumes that you have a `messages` key in your graph, which is a list of messages.\n",
    "\n",
    "All events emitted using `messages` mode have two attributes:\n",
    "\n",
    "* `event`: This is the name of the event\n",
    "* `data`: This is data associated with the event"
   ]
  },
  {
   "cell_type": "code",
   "execution_count": 54,
   "id": "4abd91f6-63c0-41ee-9988-7c8248b88a45",
   "metadata": {},
   "outputs": [
    {
     "name": "stdout",
     "output_type": "stream",
     "text": [
      "metadata\n",
      "messages/metadata\n",
      "messages/partial\n",
      "messages/metadata\n",
      "messages/complete\n",
      "messages/metadata\n",
      "messages/partial\n",
      "messages/partial\n"
     ]
    }
   ],
   "source": [
    "thread = await client.threads.create()\n",
    "\n",
    "input_message = [HumanMessage(content=\"Multiply 2 and 3\")]\n",
    "\n",
    "async for event in client.runs.stream(thread[\"thread_id\"], assistant_id=\"agent\", input={\"messages\":input_message}, stream_mode=\"messages\"):\n",
    "    print(event.event)"
   ]
  },
  {
   "cell_type": "markdown",
   "id": "8de2f1ea-b232-43fc-af7a-320efce83381",
   "metadata": {},
   "source": [
    "We can see a few events: \n",
    "\n",
    "* `metadata`: metadata about the run\n",
    "* `messages/complete`: fully formed message \n",
    "* `messages/partial`: chat model tokens\n",
    "\n",
    "You can dig further into the types [here](https://langchain-ai.github.io/langgraph/cloud/concepts/api/#modemessages).\n",
    "\n",
    "Now, let's show how to stream these messages. \n",
    "\n",
    "We'll define a helper function for better formatting of the tool calls in messages."
   ]
  },
  {
   "cell_type": "code",
   "execution_count": 61,
   "id": "50a85e16-6e3f-4f14-bcf9-8889a762f522",
   "metadata": {},
   "outputs": [],
   "source": [
    "thread = await client.threads.create()\n",
    "\n",
    "input_message = [HumanMessage(content=\"Multiply 2 and 3\")]"
   ]
  },
  {
   "cell_type": "code",
   "execution_count": 57,
   "id": "b4bcb419-2afa-4be5-bd2e-caa1a9a11a69",
   "metadata": {},
   "outputs": [],
   "source": [
    "\"\"\"Format a list of tool calls into a readable string.\n",
    "\n",
    "    Args:\n",
    "        tool_calls (list): A list of dictionaries, each representing a tool call.\n",
    "        Each dictionary should have 'id', 'name', and 'args' keys.\n",
    "\n",
    "    Returns:\n",
    "        str: A formatted string of tool calls, or \"No tool calls\" if the list is empty.\n",
    "\"\"\"\n",
    "\n",
    "def format_tool_calls(tool_calls):\n",
    "    if tool_calls:\n",
    "        formatted_calls = []\n",
    "        \n",
    "        for call in tool_calls:\n",
    "            formatted_calls.append(f\"Tool Call ID: {call['id']}, Function: {call['name']}, Arguments: {call['args']}\")\n",
    "        \n",
    "        return \"\\n\".join(formatted_calls)\n",
    "    \n",
    "    return \"No tool calls\""
   ]
  },
  {
   "cell_type": "code",
   "execution_count": 58,
   "id": "1ae885f8-102f-448a-9d68-8ded8d2bbd18",
   "metadata": {},
   "outputs": [
    {
     "name": "stdout",
     "output_type": "stream",
     "text": [
      "Metadata: Run ID - 1f076e94-8066-6069-84e9-d7b00b150a6c\n",
      "--------------------------------------------------\n",
      "Tool Calls:\n",
      "Tool Call ID: 4a2d5c63-15ab-42b8-a4e7-81b1608a9fd2, Function: multiply, Arguments: {'b': 3.0, 'a': 2.0}\n",
      "Response Metadata: Finish Reason - STOP\n",
      "--------------------------------------------------\n",
      "AI: The\n",
      "Response Metadata: Finish Reason - N/A\n",
      "--------------------------------------------------\n",
      "AI: The result of multiplying 2 and 3 is 6.\n",
      "\n",
      "Response Metadata: Finish Reason - STOP\n",
      "--------------------------------------------------\n"
     ]
    }
   ],
   "source": [
    "\n",
    "async for event in client.runs.stream(thread[\"thread_id\"], assistant_id=\"agent\", input={\"messages\":input_message}, stream_mode=\"messages\"):\n",
    "    \n",
    "    # Handle metadata events\n",
    "    if event.event == \"metadata\":\n",
    "        print(f\"Metadata: Run ID - {event.data['run_id']}\")\n",
    "        print(\"-\" * 50)\n",
    "    \n",
    "    # Handle partial message events\n",
    "    elif event.event == \"messages/partial\":\n",
    "        for data_item in event.data:\n",
    "            # Process user messages\n",
    "            if \"role\" in data_item and data_item[\"role\"] == \"user\":\n",
    "                print(f\"Human: {data_item['content']}\")\n",
    "            else:\n",
    "                # Extract relevant data from the event\n",
    "                tool_calls = data_item.get(\"tool_calls\", [])\n",
    "                \n",
    "                invalid_tool_calls = data_item.get(\"invalid_tool_calls\", [])\n",
    "                \n",
    "                content = data_item.get(\"content\", \"\")\n",
    "                \n",
    "                response_metadata = data_item.get(\"response_metadata\", {})\n",
    "\n",
    "                if content:\n",
    "                    print(f\"AI: {content}\")\n",
    "\n",
    "                if tool_calls:\n",
    "                    print(\"Tool Calls:\")\n",
    "                    print(format_tool_calls(tool_calls))\n",
    "\n",
    "                if invalid_tool_calls:\n",
    "                    print(\"Invalid Tool Calls:\")\n",
    "                    print(format_tool_calls(invalid_tool_calls))\n",
    "\n",
    "                if response_metadata:\n",
    "                    finish_reason = response_metadata.get(\"finish_reason\", \"N/A\")\n",
    "                    print(f\"Response Metadata: Finish Reason - {finish_reason}\")\n",
    "                    \n",
    "        print(\"-\" * 50)"
   ]
  },
  {
   "cell_type": "code",
   "execution_count": null,
   "id": "fdf2cc5d-4aca-42f8-9bf0-bfd20cc9e8f2",
   "metadata": {},
   "outputs": [],
   "source": []
  }
 ],
 "metadata": {
  "kernelspec": {
   "display_name": "Python 3 (ipykernel)",
   "language": "python",
   "name": "python3"
  },
  "language_info": {
   "codemirror_mode": {
    "name": "ipython",
    "version": 3
   },
   "file_extension": ".py",
   "mimetype": "text/x-python",
   "name": "python",
   "nbconvert_exporter": "python",
   "pygments_lexer": "ipython3",
   "version": "3.12.6"
  }
 },
 "nbformat": 4,
 "nbformat_minor": 5
}
